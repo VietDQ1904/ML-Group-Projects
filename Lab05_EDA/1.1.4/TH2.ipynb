{
 "cells": [
  {
   "cell_type": "code",
   "execution_count": 1,
   "id": "2c2e5a49",
   "metadata": {},
   "outputs": [
    {
     "name": "stdout",
     "output_type": "stream",
     "text": [
      "   Pregnancies  Glucose  BloodPressure  SkinThickness  Insulin   BMI  \\\n",
      "0            6      148             72             35        0  33.6   \n",
      "1            1       85             66             29        0  26.6   \n",
      "2            8      183             64              0        0  23.3   \n",
      "3            1       89             66             23       94  28.1   \n",
      "4            0      137             40             35      168  43.1   \n",
      "\n",
      "   DiabetesPedigreeFunction  Age  Outcome  \n",
      "0                     0.627   50        1  \n",
      "1                     0.351   31        0  \n",
      "2                     0.672   32        1  \n",
      "3                     0.167   21        0  \n",
      "4                     2.288   33        1  \n",
      "Pregnancies                   int64\n",
      "Glucose                       int64\n",
      "BloodPressure                 int64\n",
      "SkinThickness                 int64\n",
      "Insulin                       int64\n",
      "BMI                         float64\n",
      "DiabetesPedigreeFunction    float64\n",
      "Age                           int64\n",
      "Outcome                       int64\n",
      "dtype: object\n",
      "(768, 9)\n"
     ]
    }
   ],
   "source": [
    "import numpy as np\n",
    "import pandas as pd\n",
    "from scipy import stats\n",
    "\n",
    "# Load data từ thư mục local (điều chỉnh đường dẫn nếu cần)\n",
    "diabetes_data = pd.read_csv(\"../data/diabetes.csv\")\n",
    "\n",
    "# Kiểm tra data\n",
    "print(diabetes_data.head(5))  # Xem 5 dòng đầu\n",
    "print(diabetes_data.dtypes)   # Kiểu dữ liệu (hầu hết là int/float)\n",
    "print(diabetes_data.shape)    # Kích thước (768 rows, 9 columns)"
   ]
  },
  {
   "cell_type": "code",
   "execution_count": 2,
   "id": "e92140d5",
   "metadata": {},
   "outputs": [
    {
     "name": "stdout",
     "output_type": "stream",
     "text": [
      "Pregnancies                 0\n",
      "Glucose                     0\n",
      "BloodPressure               0\n",
      "SkinThickness               0\n",
      "Insulin                     0\n",
      "BMI                         0\n",
      "DiabetesPedigreeFunction    0\n",
      "Age                         0\n",
      "Outcome                     0\n",
      "dtype: int64\n"
     ]
    }
   ],
   "source": [
    "# Thay 0 bằng NaN cho các cột không thể là 0 (Glucose, BloodPressure, SkinThickness, Insulin, BMI)\n",
    "columns_to_fill = ['Glucose', 'BloodPressure', 'SkinThickness', 'Insulin', 'BMI']\n",
    "for column in columns_to_fill:\n",
    "    diabetes_data[column] = diabetes_data[column].replace(0, np.nan)\n",
    "\n",
    "# Fill NaN bằng mean của từng cột\n",
    "diabetes_data[columns_to_fill] = diabetes_data[columns_to_fill].fillna(diabetes_data[columns_to_fill].mean())\n",
    "\n",
    "# Kiểm tra lại missing values\n",
    "print(diabetes_data.isnull().sum())  # Đảm bảo không còn NaN"
   ]
  },
  {
   "cell_type": "code",
   "execution_count": 4,
   "id": "15fcdbf0",
   "metadata": {},
   "outputs": [
    {
     "name": "stdout",
     "output_type": "stream",
     "text": [
      "Mean: 121.68676277850591\n",
      "Median: 117.0\n",
      "Mode: 99.0\n",
      "Variance: 925.1408024792489\n",
      "Standard Deviation: 30.416127341909405\n",
      "Range: 155.0\n",
      "60th Percentile: 125.0\n",
      "75th Quartile: 140.25\n",
      "IQR: 40.5\n"
     ]
    }
   ],
   "source": [
    "# Tính trên cột 'Glucose'\n",
    "column = 'Glucose'\n",
    "\n",
    "# Mean (giá trị trung bình)\n",
    "data_mean = np.mean(diabetes_data[column])\n",
    "print(\"Mean:\", data_mean)\n",
    "\n",
    "# Median (trung vị)\n",
    "data_median = np.median(diabetes_data[column])\n",
    "print(\"Median:\", data_median)\n",
    "\n",
    "# Mode (giá trị phổ biến nhất)\n",
    "data_mode = stats.mode(diabetes_data[column], nan_policy='omit')\n",
    "mode_value = data_mode.mode  # Lấy giá trị mode trực tiếp\n",
    "print(\"Mode:\", mode_value)\n",
    "\n",
    "# Variance (phương sai)\n",
    "data_variance = np.var(diabetes_data[column])\n",
    "print(\"Variance:\", data_variance)\n",
    "\n",
    "# Standard Deviation (độ lệch chuẩn)\n",
    "data_sd = np.std(diabetes_data[column])\n",
    "print(\"Standard Deviation:\", data_sd)\n",
    "\n",
    "# Range (phạm vi: max - min)\n",
    "data_max = np.max(diabetes_data[column])\n",
    "data_min = np.min(diabetes_data[column])\n",
    "data_range = data_max - data_min\n",
    "print(\"Range:\", data_range)\n",
    "\n",
    "# 60th Percentile (phân vị 60%)\n",
    "data_percentile = np.percentile(diabetes_data[column], 60)\n",
    "print(\"60th Percentile:\", data_percentile)\n",
    "\n",
    "# 75th Quartile (Q3, phần tư vị 75%)\n",
    "data_quartile = np.quantile(diabetes_data[column], 0.75)\n",
    "print(\"75th Quartile:\", data_quartile)\n",
    "\n",
    "# IQR (khoảng tứ phân vị)\n",
    "data_IQR = stats.iqr(diabetes_data[column])\n",
    "print(\"IQR:\", data_IQR)"
   ]
  },
  {
   "cell_type": "code",
   "execution_count": 5,
   "id": "481cb8b2",
   "metadata": {},
   "outputs": [
    {
     "name": "stdout",
     "output_type": "stream",
     "text": [
      "       Pregnancies     Glucose  BloodPressure  SkinThickness     Insulin  \\\n",
      "count   768.000000  768.000000     768.000000     768.000000  768.000000   \n",
      "mean      3.845052  121.686763      72.405184      29.153420  155.548223   \n",
      "std       3.369578   30.435949      12.096346       8.790942   85.021108   \n",
      "min       0.000000   44.000000      24.000000       7.000000   14.000000   \n",
      "25%       1.000000   99.750000      64.000000      25.000000  121.500000   \n",
      "50%       3.000000  117.000000      72.202592      29.153420  155.548223   \n",
      "75%       6.000000  140.250000      80.000000      32.000000  155.548223   \n",
      "max      17.000000  199.000000     122.000000      99.000000  846.000000   \n",
      "\n",
      "              BMI  DiabetesPedigreeFunction         Age     Outcome  \n",
      "count  768.000000                768.000000  768.000000  768.000000  \n",
      "mean    32.457464                  0.471876   33.240885    0.348958  \n",
      "std      6.875151                  0.331329   11.760232    0.476951  \n",
      "min     18.200000                  0.078000   21.000000    0.000000  \n",
      "25%     27.500000                  0.243750   24.000000    0.000000  \n",
      "50%     32.400000                  0.372500   29.000000    0.000000  \n",
      "75%     36.600000                  0.626250   41.000000    1.000000  \n",
      "max     67.100000                  2.420000   81.000000    1.000000  \n"
     ]
    }
   ],
   "source": [
    "# Thống kê mô tả toàn bộ dataset\n",
    "print(diabetes_data.describe())"
   ]
  }
 ],
 "metadata": {
  "kernelspec": {
   "display_name": "base",
   "language": "python",
   "name": "python3"
  },
  "language_info": {
   "codemirror_mode": {
    "name": "ipython",
    "version": 3
   },
   "file_extension": ".py",
   "mimetype": "text/x-python",
   "name": "python",
   "nbconvert_exporter": "python",
   "pygments_lexer": "ipython3",
   "version": "3.13.5"
  }
 },
 "nbformat": 4,
 "nbformat_minor": 5
}
