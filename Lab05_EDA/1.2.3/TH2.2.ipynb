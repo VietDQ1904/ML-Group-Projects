{
 "cells": [
  {
   "cell_type": "code",
   "execution_count": 2,
   "id": "877320ce",
   "metadata": {},
   "outputs": [],
   "source": [
    "# Import thư viện\n",
    "import numpy as np\n",
    "import pandas as pd\n",
    "from scipy import stats\n",
    "import seaborn as sns\n",
    "import matplotlib.pyplot as plt"
   ]
  },
  {
   "cell_type": "code",
   "execution_count": null,
   "id": "ffd7d7a5",
   "metadata": {},
   "outputs": [
    {
     "ename": "TypeError",
     "evalue": "read_excel() got an unexpected keyword argument 'encoding'",
     "output_type": "error",
     "traceback": [
      "\u001b[1;31m---------------------------------------------------------------------------\u001b[0m",
      "\u001b[1;31mTypeError\u001b[0m                                 Traceback (most recent call last)",
      "Cell \u001b[1;32mIn[5], line 2\u001b[0m\n\u001b[0;32m      1\u001b[0m \u001b[38;5;66;03m# Load data từ thư mục local (điều chỉnh đường dẫn nếu cần)\u001b[39;00m\n\u001b[1;32m----> 2\u001b[0m retail_data \u001b[38;5;241m=\u001b[39m pd\u001b[38;5;241m.\u001b[39mread_excel(\u001b[38;5;124m\"\u001b[39m\u001b[38;5;124m../data/Online Retail.xlsx\u001b[39m\u001b[38;5;124m\"\u001b[39m, encoding\u001b[38;5;241m=\u001b[39m\u001b[38;5;124m'\u001b[39m\u001b[38;5;124mISO-8859-1\u001b[39m\u001b[38;5;124m'\u001b[39m) \n\u001b[0;32m      4\u001b[0m \u001b[38;5;66;03m# Xử lý data: Drop NaN ở Quantity và UnitPrice, tạo TotalPrice\u001b[39;00m\n\u001b[0;32m      5\u001b[0m retail_data \u001b[38;5;241m=\u001b[39m retail_data\u001b[38;5;241m.\u001b[39mdropna(subset\u001b[38;5;241m=\u001b[39m[\u001b[38;5;124m'\u001b[39m\u001b[38;5;124mQuantity\u001b[39m\u001b[38;5;124m'\u001b[39m, \u001b[38;5;124m'\u001b[39m\u001b[38;5;124mUnitPrice\u001b[39m\u001b[38;5;124m'\u001b[39m])\n",
      "\u001b[1;31mTypeError\u001b[0m: read_excel() got an unexpected keyword argument 'encoding'"
     ]
    }
   ],
   "source": [
    "# Load data từ thư mục local (điều chỉnh đường dẫn nếu cần)\n",
    "retail_data = pd.read_excel(\"../data/Online Retail.xlsx\") \n",
    "\n",
    "# Xử lý data: Drop NaN ở Quantity và UnitPrice, tạo TotalPrice\n",
    "retail_data = retail_data.dropna(subset=['Quantity', 'UnitPrice'])\n",
    "retail_data['TotalPrice'] = retail_data['Quantity'] * retail_data['UnitPrice']\n",
    "\n",
    "# Giới hạn dữ liệu (10,000 dòng đầu để chạy nhanh, có thể bỏ nếu đủ tài nguyên)\n",
    "retail_data = retail_data.head(10000)\n",
    "\n",
    "# Kiểm tra data\n",
    "print(retail_data.head(5))  # Xem 5 dòng đầu\n",
    "print(retail_data.dtypes)   # Kiểu dữ liệu\n",
    "print(retail_data.shape)    # Kích thước\n",
    "print(retail_data.isnull().sum())  # Kiểm tra missing values"
   ]
  },
  {
   "cell_type": "code",
   "execution_count": null,
   "id": "347aadbe",
   "metadata": {},
   "outputs": [],
   "source": [
    "# Tính trên cột 'UnitPrice'\n",
    "column = 'UnitPrice'\n",
    "\n",
    "# Mean (giá trị trung bình)\n",
    "data_mean = np.mean(retail_data[column])\n",
    "print(\"Mean:\", data_mean)\n",
    "\n",
    "# Median (trung vị)\n",
    "data_median = np.median(retail_data[column])\n",
    "print(\"Median:\", data_median)\n",
    "\n",
    "# Mode (giá trị phổ biến nhất)\n",
    "data_mode = stats.mode(retail_data[column], nan_policy='omit')\n",
    "mode_value = data_mode.mode[0]  # Lấy giá trị mode trực tiếp\n",
    "print(\"Mode:\", mode_value)\n",
    "\n",
    "# Variance (phương sai)\n",
    "data_variance = np.var(retail_data[column])\n",
    "print(\"Variance:\", data_variance)\n",
    "\n",
    "# Standard Deviation (độ lệch chuẩn)\n",
    "data_sd = np.std(retail_data[column])\n",
    "print(\"Standard Deviation:\", data_sd)\n",
    "\n",
    "# Range (phạm vi: max - min)\n",
    "data_max = np.max(retail_data[column])\n",
    "data_min = np.min(retail_data[column])\n",
    "data_range = data_max - data_min\n",
    "print(\"Range:\", data_range)\n",
    "\n",
    "# 60th Percentile (phân vị 60%)\n",
    "data_percentile = np.percentile(retail_data[column], 60)\n",
    "print(\"60th Percentile:\", data_percentile)\n",
    "\n",
    "# 75th Quartile (Q3, phần tư vị 75%)\n",
    "data_quartile = np.quantile(retail_data[column], 0.75)\n",
    "print(\"75th Quartile:\", data_quartile)\n",
    "\n",
    "# IQR (khoảng tứ phân vị)\n",
    "data_IQR = stats.iqr(retail_data[column])\n",
    "print(\"IQR:\", data_IQR)\n",
    "\n",
    "# Thống kê mô tả toàn bộ dataset\n",
    "print(retail_data.describe())"
   ]
  },
  {
   "cell_type": "code",
   "execution_count": null,
   "id": "aac239dd",
   "metadata": {},
   "outputs": [
    {
     "ename": "NameError",
     "evalue": "name 'sns' is not defined",
     "output_type": "error",
     "traceback": [
      "\u001b[1;31m---------------------------------------------------------------------------\u001b[0m",
      "\u001b[1;31mNameError\u001b[0m                                 Traceback (most recent call last)",
      "Cell \u001b[1;32mIn[1], line 2\u001b[0m\n\u001b[0;32m      1\u001b[0m \u001b[38;5;66;03m# Set style cho Seaborn\u001b[39;00m\n\u001b[1;32m----> 2\u001b[0m sns\u001b[38;5;241m.\u001b[39mset_style(\u001b[38;5;124m\"\u001b[39m\u001b[38;5;124mwhitegrid\u001b[39m\u001b[38;5;124m\"\u001b[39m)\n\u001b[0;32m      4\u001b[0m \u001b[38;5;66;03m# Case 1: Histogram - Phân bố UnitPrice\u001b[39;00m\n\u001b[0;32m      5\u001b[0m plt\u001b[38;5;241m.\u001b[39mfigure(figsize\u001b[38;5;241m=\u001b[39m(\u001b[38;5;241m10\u001b[39m, \u001b[38;5;241m5\u001b[39m))\n",
      "\u001b[1;31mNameError\u001b[0m: name 'sns' is not defined"
     ]
    }
   ],
   "source": [
    "# Set style cho Seaborn\n",
    "sns.set_style(\"whitegrid\")\n",
    "\n",
    "# Case 1: Histogram - Phân bố UnitPrice\n",
    "plt.figure(figsize=(10, 5))\n",
    "sns.histplot(data=retail_data, x='UnitPrice', bins=20)\n",
    "plt.title('Distribution of Unit Price')\n",
    "plt.xlabel('Unit Price (£)')\n",
    "plt.ylabel('Frequency')\n",
    "plt.show()"
   ]
  },
  {
   "cell_type": "code",
   "execution_count": null,
   "id": "9866fac6",
   "metadata": {},
   "outputs": [],
   "source": [
    "# Case 2: Boxplot - UnitPrice theo Country (giới hạn top 5)\n",
    "top_countries = retail_data['Country'].value_counts().head(5).index\n",
    "retail_subset = retail_data[retail_data['Country'].isin(top_countries)]\n",
    "plt.figure(figsize=(12, 5))\n",
    "sns.boxplot(x='Country', y='UnitPrice', data=retail_subset)\n",
    "plt.title('Unit Price Distribution by Top 5 Countries')\n",
    "plt.xlabel('Country')\n",
    "plt.ylabel('Unit Price (£)')\n",
    "plt.xticks(rotation=45)\n",
    "plt.show()"
   ]
  },
  {
   "cell_type": "code",
   "execution_count": null,
   "id": "b38d80da",
   "metadata": {},
   "outputs": [],
   "source": [
    "# Case 3: Hai biểu đồ song song\n",
    "fig, (ax1, ax2) = plt.subplots(1, 2, figsize=(15, 5))\n",
    "sns.histplot(data=retail_data, x='UnitPrice', bins=20, ax=ax1)\n",
    "ax1.set_title('Distribution of Unit Price')\n",
    "ax1.set_xlabel('Unit Price (£)')\n",
    "ax1.set_ylabel('Frequency')\n",
    "\n",
    "sns.boxplot(x='Country', y='UnitPrice', data=retail_subset, ax=ax2)\n",
    "ax2.set_title('Unit Price by Top 5 Countries')\n",
    "ax2.set_xlabel('Country')\n",
    "ax2.set_ylabel('Unit Price (£)')\n",
    "ax2.tick_params(axis='x', rotation=45)\n",
    "plt.show()"
   ]
  }
 ],
 "metadata": {
  "kernelspec": {
   "display_name": "base",
   "language": "python",
   "name": "python3"
  },
  "language_info": {
   "codemirror_mode": {
    "name": "ipython",
    "version": 3
   },
   "file_extension": ".py",
   "mimetype": "text/x-python",
   "name": "python",
   "nbconvert_exporter": "python",
   "pygments_lexer": "ipython3",
   "version": "3.13.5"
  }
 },
 "nbformat": 4,
 "nbformat_minor": 5
}
