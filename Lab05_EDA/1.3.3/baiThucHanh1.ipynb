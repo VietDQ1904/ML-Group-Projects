{
 "cells": [
  {
   "cell_type": "markdown",
   "id": "c743cb40",
   "metadata": {},
   "source": [
    "# 1.3.3. Bài tập thực hành 1"
   ]
  },
  {
   "cell_type": "markdown",
   "id": "95cedf22",
   "metadata": {},
   "source": [
    "### 1. Import các thư viện cần thiết cho bài tập thực hành"
   ]
  },
  {
   "cell_type": "code",
   "execution_count": 1,
   "id": "19f6fd89",
   "metadata": {},
   "outputs": [
    {
     "name": "stderr",
     "output_type": "stream",
     "text": [
      "d:\\Installs\\Anaconda\\envs\\old_version\\lib\\site-packages\\sweetviz\\graph.py:8: UserWarning: pkg_resources is deprecated as an API. See https://setuptools.pypa.io/en/latest/pkg_resources.html. The pkg_resources package is slated for removal as early as 2025-11-30. Refrain from using this package or pin to Setuptools<81.\n",
      "  from pkg_resources import resource_filename\n"
     ]
    }
   ],
   "source": [
    "import sweetviz as sv\n",
    "import pandas as pd"
   ]
  },
  {
   "cell_type": "markdown",
   "id": "e4cb8632",
   "metadata": {},
   "source": [
    "### 2. Đọc file dataset Marketing Campaign.\n",
    "Dùng pd.read_csv để đọc file dataset."
   ]
  },
  {
   "cell_type": "code",
   "execution_count": 2,
   "id": "0bfb704d",
   "metadata": {},
   "outputs": [],
   "source": [
    "dataFrame = pd.read_csv(\"../data/marketing_campaign.csv\", sep=\"\\t\")"
   ]
  },
  {
   "cell_type": "markdown",
   "id": "53c010d2",
   "metadata": {},
   "source": [
    "### 3. Liệt kê thông tin của dataset."
   ]
  },
  {
   "cell_type": "code",
   "execution_count": 3,
   "id": "53d3f5be",
   "metadata": {},
   "outputs": [
    {
     "name": "stdout",
     "output_type": "stream",
     "text": [
      "<class 'pandas.core.frame.DataFrame'>\n",
      "RangeIndex: 2240 entries, 0 to 2239\n",
      "Data columns (total 29 columns):\n",
      " #   Column               Non-Null Count  Dtype  \n",
      "---  ------               --------------  -----  \n",
      " 0   ID                   2240 non-null   int64  \n",
      " 1   Year_Birth           2240 non-null   int64  \n",
      " 2   Education            2240 non-null   object \n",
      " 3   Marital_Status       2240 non-null   object \n",
      " 4   Income               2216 non-null   float64\n",
      " 5   Kidhome              2240 non-null   int64  \n",
      " 6   Teenhome             2240 non-null   int64  \n",
      " 7   Dt_Customer          2240 non-null   object \n",
      " 8   Recency              2240 non-null   int64  \n",
      " 9   MntWines             2240 non-null   int64  \n",
      " 10  MntFruits            2240 non-null   int64  \n",
      " 11  MntMeatProducts      2240 non-null   int64  \n",
      " 12  MntFishProducts      2240 non-null   int64  \n",
      " 13  MntSweetProducts     2240 non-null   int64  \n",
      " 14  MntGoldProds         2240 non-null   int64  \n",
      " 15  NumDealsPurchases    2240 non-null   int64  \n",
      " 16  NumWebPurchases      2240 non-null   int64  \n",
      " 17  NumCatalogPurchases  2240 non-null   int64  \n",
      " 18  NumStorePurchases    2240 non-null   int64  \n",
      " 19  NumWebVisitsMonth    2240 non-null   int64  \n",
      " 20  AcceptedCmp3         2240 non-null   int64  \n",
      " 21  AcceptedCmp4         2240 non-null   int64  \n",
      " 22  AcceptedCmp5         2240 non-null   int64  \n",
      " 23  AcceptedCmp1         2240 non-null   int64  \n",
      " 24  AcceptedCmp2         2240 non-null   int64  \n",
      " 25  Complain             2240 non-null   int64  \n",
      " 26  Z_CostContact        2240 non-null   int64  \n",
      " 27  Z_Revenue            2240 non-null   int64  \n",
      " 28  Response             2240 non-null   int64  \n",
      "dtypes: float64(1), int64(25), object(3)\n",
      "memory usage: 507.6+ KB\n"
     ]
    }
   ],
   "source": [
    "dataFrame.info()"
   ]
  },
  {
   "cell_type": "markdown",
   "id": "62bed070",
   "metadata": {},
   "source": [
    "### 4. Kiểm tra phiên bản của Numpy\n",
    "Cần sử dụng Numpy phiên bản 1.x để phân tích dữ liệu bằng công cụ Sweetviz. Một số phương thức mà \n",
    "Sweetviz dùng của Numpy đã bị xóa ở các phiên bản 2.x."
   ]
  },
  {
   "cell_type": "code",
   "execution_count": 4,
   "id": "567656a9",
   "metadata": {},
   "outputs": [
    {
     "name": "stdout",
     "output_type": "stream",
     "text": [
      "1.26.4\n"
     ]
    }
   ],
   "source": [
    "import numpy as np\n",
    "print(np.__version__)"
   ]
  },
  {
   "cell_type": "markdown",
   "id": "08832059",
   "metadata": {},
   "source": [
    "### 5. Phân tích dữ liệu sử dụng công cụ Sweetviz."
   ]
  },
  {
   "cell_type": "code",
   "execution_count": 5,
   "id": "b2560861",
   "metadata": {},
   "outputs": [
    {
     "data": {
      "application/vnd.jupyter.widget-view+json": {
       "model_id": "e5039bba7cd246a38a8fd6f66b4e9ec8",
       "version_major": 2,
       "version_minor": 0
      },
      "text/plain": [
       "                                             |          | [  0%]   00:00 -> (? left)"
      ]
     },
     "metadata": {},
     "output_type": "display_data"
    }
   ],
   "source": [
    "# Phân tích dữ liệu bằng sv.analyze\n",
    "report = sv.analyze(dataFrame)"
   ]
  },
  {
   "cell_type": "markdown",
   "id": "023cd2a2",
   "metadata": {},
   "source": [
    "### 6. Xuất báo cáo phân tích dữ liệu ra file html."
   ]
  },
  {
   "cell_type": "code",
   "execution_count": 6,
   "id": "11144359",
   "metadata": {},
   "outputs": [
    {
     "name": "stdout",
     "output_type": "stream",
     "text": [
      "Report ../reports/report1.html was generated.\n"
     ]
    }
   ],
   "source": [
    "report.show_html(\"../reports/report1.html\", open_browser=False)"
   ]
  },
  {
   "cell_type": "code",
   "execution_count": null,
   "id": "d6ba6f31",
   "metadata": {},
   "outputs": [],
   "source": []
  }
 ],
 "metadata": {
  "kernelspec": {
   "display_name": "old_version",
   "language": "python",
   "name": "python3"
  },
  "language_info": {
   "codemirror_mode": {
    "name": "ipython",
    "version": 3
   },
   "file_extension": ".py",
   "mimetype": "text/x-python",
   "name": "python",
   "nbconvert_exporter": "python",
   "pygments_lexer": "ipython3",
   "version": "3.10.18"
  }
 },
 "nbformat": 4,
 "nbformat_minor": 5
}
