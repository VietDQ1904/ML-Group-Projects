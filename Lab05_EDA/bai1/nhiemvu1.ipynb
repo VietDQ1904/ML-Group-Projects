{
 "cells": [
  {
   "cell_type": "markdown",
   "id": "76f034a2",
   "metadata": {},
   "source": [
    "# Phân tích dữ liệu số ca nhiễm COVID-19 mới\n",
    "Trong notebook này, chúng ta sẽ thực hiện các bước EDA cơ bản trên cột `new_cases` của bộ dữ liệu COVID-19."
   ]
  },
  {
   "cell_type": "markdown",
   "id": "6004773e",
   "metadata": {},
   "source": [
    "## 1. Import thư viện cần thiết\n",
    "Chúng ta sử dụng numpy, pandas và scipy để xử lý và phân tích dữ liệu."
   ]
  },
  {
   "cell_type": "code",
   "execution_count": 2,
   "id": "0c1debec",
   "metadata": {},
   "outputs": [],
   "source": [
    "import numpy as np\n",
    "import pandas as pd\n",
    "from scipy import stats"
   ]
  },
  {
   "cell_type": "markdown",
   "id": "e8ea9bb0",
   "metadata": {},
   "source": [
    "## 2. Đọc dữ liệu từ file CSV\n",
    "Chỉ lấy các cột liên quan: mã quốc gia, châu lục, tên quốc gia, ngày, tổng số ca, số ca mới."
   ]
  },
  {
   "cell_type": "code",
   "execution_count": null,
   "id": "d370d3be",
   "metadata": {},
   "outputs": [],
   "source": [
    "covid_data = pd.read_csv(\"../data/owid-covid-data.csv\")\n",
    "covid_data = covid_data[['iso_code', 'continent', 'location', 'date', 'total_cases', 'new_cases']]"
   ]
  },
  {
   "cell_type": "markdown",
   "id": "c08f0590",
   "metadata": {},
   "source": [
    "## 3. Khám phá dữ liệu ban đầu\n",
    "Xem 5 dòng đầu, kiểu dữ liệu và kích thước bảng."
   ]
  },
  {
   "cell_type": "code",
   "execution_count": null,
   "id": "bcabfe6f",
   "metadata": {},
   "outputs": [],
   "source": [
    "print(covid_data.head(5))\n",
    "print(covid_data.dtypes)\n",
    "print(covid_data.shape)"
   ]
  },
  {
   "cell_type": "markdown",
   "id": "faecd063",
   "metadata": {},
   "source": [
    "## 4. Kiểm tra và xử lý giá trị thiếu (NaN) ở cột `new_cases`\n",
    "Đếm số lượng giá trị thiếu và thay thế bằng 0."
   ]
  },
  {
   "cell_type": "code",
   "execution_count": null,
   "id": "c71dc71d",
   "metadata": {},
   "outputs": [],
   "source": [
    "print(covid_data['new_cases'].isnull().sum())\n",
    "covid_data['new_cases'] = covid_data['new_cases'].fillna(0)"
   ]
  },
  {
   "cell_type": "markdown",
   "id": "bdc99697",
   "metadata": {},
   "source": [
    "## 5. Tính các thống kê mô tả cơ bản cho cột `new_cases`\n",
    "Bao gồm: Mean, Median, Mode, Variance, Standard Deviation, Range, Percentile, Quartile, IQR."
   ]
  },
  {
   "cell_type": "code",
   "execution_count": null,
   "id": "7be90c8c",
   "metadata": {},
   "outputs": [],
   "source": [
    "# Mean\n",
    "data_mean = np.mean(covid_data[\"new_cases\"])\n",
    "print(\"Mean:\", data_mean)\n",
    "\n",
    "# Median\n",
    "data_median = np.median(covid_data[\"new_cases\"])\n",
    "print(\"Median:\", data_median)\n",
    "\n",
    "# Mode\n",
    "data_mode = stats.mode(covid_data[\"new_cases\"], nan_policy='omit', keepdims=True)\n",
    "print(\"Mode:\", data_mode.mode[0])\n",
    "\n",
    "# Variance\n",
    "data_variance = np.var(covid_data[\"new_cases\"])\n",
    "print(\"Variance:\", data_variance)\n",
    "\n",
    "# Standard Deviation\n",
    "data_sd = np.std(covid_data[\"new_cases\"])\n",
    "print(\"Standard Deviation:\", data_sd)\n",
    "\n",
    "# Range\n",
    "data_max = np.max(covid_data[\"new_cases\"])\n",
    "data_min = np.min(covid_data[\"new_cases\"])\n",
    "data_range = data_max - data_min\n",
    "print(\"Range:\", data_range)\n",
    "\n",
    "# 60th Percentile\n",
    "data_percentile = np.percentile(covid_data[\"new_cases\"], 60)\n",
    "print(\"60th Percentile:\", data_percentile)\n",
    "\n",
    "# 75th Quartile (Q3)\n",
    "data_quartile = np.quantile(covid_data[\"new_cases\"], 0.75)\n",
    "print(\"75th Quartile:\", data_quartile)\n",
    "\n",
    "# IQR\n",
    "data_IQR = stats.iqr(covid_data[\"new_cases\"])\n",
    "print(\"IQR:\", data_IQR)"
   ]
  }
 ],
 "metadata": {
  "kernelspec": {
   "display_name": "base",
   "language": "python",
   "name": "python3"
  },
  "language_info": {
   "codemirror_mode": {
    "name": "ipython",
    "version": 3
   },
   "file_extension": ".py",
   "mimetype": "text/x-python",
   "name": "python",
   "nbconvert_exporter": "python",
   "pygments_lexer": "ipython3",
   "version": "3.13.5"
  }
 },
 "nbformat": 4,
 "nbformat_minor": 5
}
