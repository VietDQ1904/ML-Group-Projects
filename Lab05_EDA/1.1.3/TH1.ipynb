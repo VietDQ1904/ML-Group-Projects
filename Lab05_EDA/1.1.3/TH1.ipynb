{
 "cells": [
  {
   "cell_type": "code",
   "execution_count": 1,
   "id": "76f2c089",
   "metadata": {},
   "outputs": [
    {
     "name": "stdout",
     "output_type": "stream",
     "text": [
      "   fixed acidity  volatile acidity  citric acid  residual sugar  chlorides  \\\n",
      "0            7.4              0.70         0.00             1.9      0.076   \n",
      "1            7.8              0.88         0.00             2.6      0.098   \n",
      "2            7.8              0.76         0.04             2.3      0.092   \n",
      "3           11.2              0.28         0.56             1.9      0.075   \n",
      "4            7.4              0.70         0.00             1.9      0.076   \n",
      "\n",
      "   free sulfur dioxide  total sulfur dioxide  density    pH  sulphates  \\\n",
      "0                 11.0                  34.0   0.9978  3.51       0.56   \n",
      "1                 25.0                  67.0   0.9968  3.20       0.68   \n",
      "2                 15.0                  54.0   0.9970  3.26       0.65   \n",
      "3                 17.0                  60.0   0.9980  3.16       0.58   \n",
      "4                 11.0                  34.0   0.9978  3.51       0.56   \n",
      "\n",
      "   alcohol  quality  \n",
      "0      9.4        5  \n",
      "1      9.8        5  \n",
      "2      9.8        5  \n",
      "3      9.8        6  \n",
      "4      9.4        5  \n",
      "fixed acidity           float64\n",
      "volatile acidity        float64\n",
      "citric acid             float64\n",
      "residual sugar          float64\n",
      "chlorides               float64\n",
      "free sulfur dioxide     float64\n",
      "total sulfur dioxide    float64\n",
      "density                 float64\n",
      "pH                      float64\n",
      "sulphates               float64\n",
      "alcohol                 float64\n",
      "quality                   int64\n",
      "dtype: object\n",
      "(1599, 12)\n"
     ]
    }
   ],
   "source": [
    "import numpy as np\n",
    "import pandas as pd\n",
    "from scipy import stats\n",
    "\n",
    "# Load data từ thư mục local \n",
    "wine_data = pd.read_csv(\"../data/winequality-red.csv\")\n",
    "\n",
    "# Chọn tất cả cột (hoặc giới hạn nếu muốn: wine_data = wine_data[['fixed acidity', 'volatile acidity', 'quality']])\n",
    "# Kiểm tra data\n",
    "print(wine_data.head(5))  # Xem 5 dòng đầu\n",
    "print(wine_data.dtypes)   # Kiểu dữ liệu (hầu hết là float/int)\n",
    "print(wine_data.shape)    # Kích thước (1599 rows, 12 columns)"
   ]
  },
  {
   "cell_type": "code",
   "execution_count": 2,
   "id": "d6f0cd8f",
   "metadata": {},
   "outputs": [
    {
     "name": "stdout",
     "output_type": "stream",
     "text": [
      "fixed acidity           0\n",
      "volatile acidity        0\n",
      "citric acid             0\n",
      "residual sugar          0\n",
      "chlorides               0\n",
      "free sulfur dioxide     0\n",
      "total sulfur dioxide    0\n",
      "density                 0\n",
      "pH                      0\n",
      "sulphates               0\n",
      "alcohol                 0\n",
      "quality                 0\n",
      "dtype: int64\n"
     ]
    }
   ],
   "source": [
    "# Kiểm tra missing values\n",
    "print(wine_data.isnull().sum())  # Nếu có NaN ở cột nào, sẽ hiển thị\n",
    "\n",
    "# Fill NaN bằng 0 cho cột 'quality' (hoặc thay bằng mean: .fillna(wine_data['quality'].mean()))\n",
    "wine_data['quality'] = wine_data['quality'].fillna(0)"
   ]
  },
  {
   "cell_type": "code",
   "execution_count": 3,
   "id": "8e9f9c77",
   "metadata": {},
   "outputs": [
    {
     "name": "stdout",
     "output_type": "stream",
     "text": [
      "Mean: 5.6360225140712945\n",
      "Median: 6.0\n",
      "Mode: 5\n",
      "Variance: 0.6517605398308234\n",
      "Standard Deviation: 0.8073168769639486\n",
      "Range: 5\n",
      "60th Percentile: 6.0\n",
      "75th Quartile: 6.0\n",
      "IQR: 1.0\n"
     ]
    }
   ],
   "source": [
    "# Tính trên cột 'quality'\n",
    "column = 'quality'\n",
    "\n",
    "# Mean (giá trị trung bình)\n",
    "data_mean = np.mean(wine_data[column])\n",
    "print(\"Mean:\", data_mean)\n",
    "\n",
    "# Median (trung vị)\n",
    "data_median = np.median(wine_data[column])\n",
    "print(\"Median:\", data_median)\n",
    "\n",
    "# Mode (mode, giá trị phổ biến nhất)\n",
    "data_mode = stats.mode(wine_data[column])\n",
    "print(\"Mode:\", data_mode.mode)\n",
    "\n",
    "# Variance (phương sai)\n",
    "data_variance = np.var(wine_data[column])\n",
    "print(\"Variance:\", data_variance)\n",
    "\n",
    "# Standard Deviation (độ lệch chuẩn)\n",
    "data_sd = np.std(wine_data[column])\n",
    "print(\"Standard Deviation:\", data_sd)\n",
    "\n",
    "# Range (phạm vi: max - min)\n",
    "data_max = np.max(wine_data[column])\n",
    "data_min = np.min(wine_data[column])\n",
    "data_range = data_max - data_min\n",
    "print(\"Range:\", data_range)\n",
    "\n",
    "# 60th Percentile (phân vị 60%)\n",
    "data_percentile = np.percentile(wine_data[column], 60)\n",
    "print(\"60th Percentile:\", data_percentile)\n",
    "\n",
    "# 75th Quartile (Q3, phần tư vị 75%)\n",
    "data_quartile = np.quantile(wine_data[column], 0.75)\n",
    "print(\"75th Quartile:\", data_quartile)\n",
    "\n",
    "# IQR (khoảng tứ phân vị)\n",
    "data_IQR = stats.iqr(wine_data[column])\n",
    "print(\"IQR:\", data_IQR)"
   ]
  },
  {
   "cell_type": "code",
   "execution_count": 4,
   "id": "39753bd0",
   "metadata": {},
   "outputs": [
    {
     "name": "stdout",
     "output_type": "stream",
     "text": [
      "       fixed acidity  volatile acidity  citric acid  residual sugar  \\\n",
      "count    1599.000000       1599.000000  1599.000000     1599.000000   \n",
      "mean        8.319637          0.527821     0.270976        2.538806   \n",
      "std         1.741096          0.179060     0.194801        1.409928   \n",
      "min         4.600000          0.120000     0.000000        0.900000   \n",
      "25%         7.100000          0.390000     0.090000        1.900000   \n",
      "50%         7.900000          0.520000     0.260000        2.200000   \n",
      "75%         9.200000          0.640000     0.420000        2.600000   \n",
      "max        15.900000          1.580000     1.000000       15.500000   \n",
      "\n",
      "         chlorides  free sulfur dioxide  total sulfur dioxide      density  \\\n",
      "count  1599.000000          1599.000000           1599.000000  1599.000000   \n",
      "mean      0.087467            15.874922             46.467792     0.996747   \n",
      "std       0.047065            10.460157             32.895324     0.001887   \n",
      "min       0.012000             1.000000              6.000000     0.990070   \n",
      "25%       0.070000             7.000000             22.000000     0.995600   \n",
      "50%       0.079000            14.000000             38.000000     0.996750   \n",
      "75%       0.090000            21.000000             62.000000     0.997835   \n",
      "max       0.611000            72.000000            289.000000     1.003690   \n",
      "\n",
      "                pH    sulphates      alcohol      quality  \n",
      "count  1599.000000  1599.000000  1599.000000  1599.000000  \n",
      "mean      3.311113     0.658149    10.422983     5.636023  \n",
      "std       0.154386     0.169507     1.065668     0.807569  \n",
      "min       2.740000     0.330000     8.400000     3.000000  \n",
      "25%       3.210000     0.550000     9.500000     5.000000  \n",
      "50%       3.310000     0.620000    10.200000     6.000000  \n",
      "75%       3.400000     0.730000    11.100000     6.000000  \n",
      "max       4.010000     2.000000    14.900000     8.000000  \n"
     ]
    }
   ],
   "source": [
    "# Thống kê mô tả toàn bộ dataset\n",
    "print(wine_data.describe())"
   ]
  }
 ],
 "metadata": {
  "kernelspec": {
   "display_name": "base",
   "language": "python",
   "name": "python3"
  },
  "language_info": {
   "codemirror_mode": {
    "name": "ipython",
    "version": 3
   },
   "file_extension": ".py",
   "mimetype": "text/x-python",
   "name": "python",
   "nbconvert_exporter": "python",
   "pygments_lexer": "ipython3",
   "version": "3.13.5"
  }
 },
 "nbformat": 4,
 "nbformat_minor": 5
}
