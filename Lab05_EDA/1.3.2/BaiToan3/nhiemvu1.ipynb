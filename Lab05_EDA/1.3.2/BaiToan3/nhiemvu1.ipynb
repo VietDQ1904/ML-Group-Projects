{
 "cells": [
  {
   "cell_type": "markdown",
   "id": "dc7f62b5",
   "metadata": {},
   "source": [
    "# Nhiệm vụ 1: Sử dụng pandas profiling trên dữ liệu Customer Personality Analysis."
   ]
  },
  {
   "cell_type": "code",
   "execution_count": 4,
   "id": "60356dca",
   "metadata": {},
   "outputs": [
    {
     "data": {
      "application/vnd.jupyter.widget-view+json": {
       "model_id": "4eda5cb6c434425c92cc1d246a315ca3",
       "version_major": 2,
       "version_minor": 0
      },
      "text/plain": [
       "Summarize dataset:   0%|          | 0/5 [00:00<?, ?it/s]"
      ]
     },
     "metadata": {},
     "output_type": "display_data"
    },
    {
     "name": "stderr",
     "output_type": "stream",
     "text": [
      "100%|██████████| 29/29 [00:00<00:00, 1402.73it/s]\n"
     ]
    },
    {
     "data": {
      "application/vnd.jupyter.widget-view+json": {
       "model_id": "04c0c6d8b73f434a9e81e97c1ca8136e",
       "version_major": 2,
       "version_minor": 0
      },
      "text/plain": [
       "Generate report structure:   0%|          | 0/1 [00:00<?, ?it/s]"
      ]
     },
     "metadata": {},
     "output_type": "display_data"
    },
    {
     "data": {
      "application/vnd.jupyter.widget-view+json": {
       "model_id": "9aa5821ccdbe4d039d5e3f25c4b74a43",
       "version_major": 2,
       "version_minor": 0
      },
      "text/plain": [
       "Render HTML:   0%|          | 0/1 [00:00<?, ?it/s]"
      ]
     },
     "metadata": {},
     "output_type": "display_data"
    },
    {
     "data": {
      "application/vnd.jupyter.widget-view+json": {
       "model_id": "b33e38ad0c1b4f90aa7043ebf85fd06a",
       "version_major": 2,
       "version_minor": 0
      },
      "text/plain": [
       "Export report to file:   0%|          | 0/1 [00:00<?, ?it/s]"
      ]
     },
     "metadata": {},
     "output_type": "display_data"
    }
   ],
   "source": [
    "import pandas as pd\n",
    "from ydata_profiling import ProfileReport\n",
    "marketing_data = pd.read_csv(\"../../data/marketing_campaign.csv\", sep=\"\\t\")\n",
    "\"\"\" Create an Automated EDA report using the ProfileReport class in the\n",
    "ydata_profiling library. Use the to_file method to output the report to an\n",
    "HTML file \"\"\"\n",
    "profile = ProfileReport(marketing_data)\n",
    "profile.to_file(\"../../reports/profile_output.html\")"
   ]
  }
 ],
 "metadata": {
  "kernelspec": {
   "display_name": "base",
   "language": "python",
   "name": "python3"
  },
  "language_info": {
   "codemirror_mode": {
    "name": "ipython",
    "version": 3
   },
   "file_extension": ".py",
   "mimetype": "text/x-python",
   "name": "python",
   "nbconvert_exporter": "python",
   "pygments_lexer": "ipython3",
   "version": "3.13.5"
  }
 },
 "nbformat": 4,
 "nbformat_minor": 5
}
