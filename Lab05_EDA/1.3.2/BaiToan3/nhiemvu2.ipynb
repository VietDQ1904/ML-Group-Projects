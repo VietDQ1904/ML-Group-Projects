{
 "cells": [
  {
   "cell_type": "markdown",
   "id": "278b1c77",
   "metadata": {},
   "source": [
    "# Nhiệm vụ 2: Sử dụng dtale trên dữ liệu Marketing Campaign."
   ]
  },
  {
   "cell_type": "code",
   "execution_count": 2,
   "id": "b0504c60",
   "metadata": {},
   "outputs": [],
   "source": [
    "import pandas as pd\n",
    "import dtale\n",
    "marketing_data = pd.read_csv(\"../../data/marketing_campaign.csv\", sep=\"\\t\")\n",
    "dtale.show(marketing_data).open_browser()"
   ]
  }
 ],
 "metadata": {
  "kernelspec": {
   "display_name": "base",
   "language": "python",
   "name": "python3"
  },
  "language_info": {
   "codemirror_mode": {
    "name": "ipython",
    "version": 3
   },
   "file_extension": ".py",
   "mimetype": "text/x-python",
   "name": "python",
   "nbconvert_exporter": "python",
   "pygments_lexer": "ipython3",
   "version": "3.13.5"
  }
 },
 "nbformat": 4,
 "nbformat_minor": 5
}
