{
 "cells": [
  {
   "cell_type": "markdown",
   "id": "e28b358a",
   "metadata": {},
   "source": [
    "# Nhiệm Vụ 1: Khám Phá Dữ Liệu COVID-19"
   ]
  },
  {
   "cell_type": "markdown",
   "id": "76f034a2",
   "metadata": {},
   "source": [
    "# Phân tích dữ liệu số ca nhiễm COVID-19 mới\n",
    "Trong notebook này, chúng ta sẽ thực hiện các bước EDA cơ bản trên cột `new_cases` của bộ dữ liệu COVID-19."
   ]
  },
  {
   "cell_type": "markdown",
   "id": "6004773e",
   "metadata": {},
   "source": [
    "## 1. Import thư viện cần thiết\n",
    "Chúng ta sử dụng numpy, pandas và scipy để xử lý và phân tích dữ liệu."
   ]
  },
  {
   "cell_type": "code",
   "execution_count": 1,
   "id": "0c1debec",
   "metadata": {},
   "outputs": [],
   "source": [
    "import numpy as np\n",
    "import pandas as pd\n",
    "from scipy import stats"
   ]
  },
  {
   "cell_type": "markdown",
   "id": "e8ea9bb0",
   "metadata": {},
   "source": [
    "## 2. Đọc dữ liệu từ file CSV\n",
    "Chỉ lấy các cột liên quan: mã quốc gia, châu lục, tên quốc gia, ngày, tổng số ca, số ca mới."
   ]
  },
  {
   "cell_type": "code",
   "execution_count": 2,
   "id": "d370d3be",
   "metadata": {},
   "outputs": [],
   "source": [
    "covid_data = pd.read_csv(\"../data/owid-covid-data.csv\")\n",
    "covid_data = covid_data[['iso_code', 'continent', 'location', 'date', 'total_cases', 'new_cases']]"
   ]
  },
  {
   "cell_type": "markdown",
   "id": "c08f0590",
   "metadata": {},
   "source": [
    "## 3. Khám phá dữ liệu ban đầu\n",
    "Xem 5 dòng đầu, kiểu dữ liệu và kích thước bảng."
   ]
  },
  {
   "cell_type": "code",
   "execution_count": 3,
   "id": "bcabfe6f",
   "metadata": {},
   "outputs": [
    {
     "name": "stdout",
     "output_type": "stream",
     "text": [
      "  iso_code continent     location        date  total_cases  new_cases\n",
      "0      AFG      Asia  Afghanistan  2020-01-05          0.0        0.0\n",
      "1      AFG      Asia  Afghanistan  2020-01-06          0.0        0.0\n",
      "2      AFG      Asia  Afghanistan  2020-01-07          0.0        0.0\n",
      "3      AFG      Asia  Afghanistan  2020-01-08          0.0        0.0\n",
      "4      AFG      Asia  Afghanistan  2020-01-09          0.0        0.0\n",
      "iso_code        object\n",
      "continent       object\n",
      "location        object\n",
      "date            object\n",
      "total_cases    float64\n",
      "new_cases      float64\n",
      "dtype: object\n",
      "(429435, 6)\n"
     ]
    }
   ],
   "source": [
    "print(covid_data.head(5))\n",
    "print(covid_data.dtypes)\n",
    "print(covid_data.shape)"
   ]
  },
  {
   "cell_type": "markdown",
   "id": "faecd063",
   "metadata": {},
   "source": [
    "## 4. Kiểm tra và xử lý giá trị thiếu (NaN) ở cột `new_cases`\n",
    "Đếm số lượng giá trị thiếu và thay thế bằng 0."
   ]
  },
  {
   "cell_type": "code",
   "execution_count": 4,
   "id": "c71dc71d",
   "metadata": {},
   "outputs": [
    {
     "name": "stdout",
     "output_type": "stream",
     "text": [
      "19276\n"
     ]
    }
   ],
   "source": [
    "print(covid_data['new_cases'].isnull().sum())\n",
    "covid_data['new_cases'] = covid_data['new_cases'].fillna(0)"
   ]
  },
  {
   "cell_type": "markdown",
   "id": "bdc99697",
   "metadata": {},
   "source": [
    "## 5. Tính các thống kê mô tả cơ bản cho cột `new_cases`\n",
    "Bao gồm: Mean, Median, Mode, Variance, Standard Deviation, Range, Percentile, Quartile, IQR."
   ]
  },
  {
   "cell_type": "code",
   "execution_count": 5,
   "id": "7be90c8c",
   "metadata": {},
   "outputs": [
    {
     "name": "stdout",
     "output_type": "stream",
     "text": [
      "Mean: 7657.48561016219\n",
      "Median: 0.0\n",
      "Mode: 0.0\n",
      "Variance: 50380982412.98099\n",
      "Standard Deviation: 224457.0836774393\n",
      "Range: 44236227.0\n",
      "60th Percentile: 0.0\n",
      "75th Quartile: 0.0\n",
      "IQR: 0.0\n"
     ]
    }
   ],
   "source": [
    "# Mean\n",
    "data_mean = np.mean(covid_data[\"new_cases\"])\n",
    "print(\"Mean:\", data_mean)\n",
    "\n",
    "# Median\n",
    "data_median = np.median(covid_data[\"new_cases\"])\n",
    "print(\"Median:\", data_median)\n",
    "\n",
    "# Mode\n",
    "data_mode = stats.mode(covid_data[\"new_cases\"], nan_policy='omit', keepdims=True)\n",
    "print(\"Mode:\", data_mode.mode[0])\n",
    "\n",
    "# Variance\n",
    "data_variance = np.var(covid_data[\"new_cases\"])\n",
    "print(\"Variance:\", data_variance)\n",
    "\n",
    "# Standard Deviation\n",
    "data_sd = np.std(covid_data[\"new_cases\"])\n",
    "print(\"Standard Deviation:\", data_sd)\n",
    "\n",
    "# Range\n",
    "data_max = np.max(covid_data[\"new_cases\"])\n",
    "data_min = np.min(covid_data[\"new_cases\"])\n",
    "data_range = data_max - data_min\n",
    "print(\"Range:\", data_range)\n",
    "\n",
    "# 60th Percentile\n",
    "data_percentile = np.percentile(covid_data[\"new_cases\"], 60)\n",
    "print(\"60th Percentile:\", data_percentile)\n",
    "\n",
    "# 75th Quartile (Q3)\n",
    "data_quartile = np.quantile(covid_data[\"new_cases\"], 0.75)\n",
    "print(\"75th Quartile:\", data_quartile)\n",
    "\n",
    "# IQR\n",
    "data_IQR = stats.iqr(covid_data[\"new_cases\"])\n",
    "print(\"IQR:\", data_IQR)"
   ]
  },
  {
   "cell_type": "markdown",
   "id": "c4119408",
   "metadata": {},
   "source": [
    "### Ý nghĩa các thống kê mô tả cơ bản cho cột `new_cases`\n",
    "- **Mean (Trung bình):** Giá trị trung bình số ca nhiễm mới mỗi ngày, phản ánh xu hướng tổng thể của dữ liệu.\n",
    "- **Median (Trung vị):** Giá trị nằm giữa khi sắp xếp tất cả số ca nhiễm mới, giúp giảm ảnh hưởng của các giá trị ngoại lai.\n",
    "- **Mode (Giá trị xuất hiện nhiều nhất):** Số ca nhiễm mới phổ biến nhất trong dữ liệu.\n",
    "- **Variance (Phương sai):** Đo độ phân tán của số ca nhiễm mới quanh giá trị trung bình.\n",
    "- **Standard Deviation (Độ lệch chuẩn):** Đo mức độ biến động của số ca nhiễm mới so với trung bình.\n",
    "- **Range (Khoảng biến thiên):** Hiệu số giữa giá trị lớn nhất và nhỏ nhất, cho biết độ rộng của dữ liệu.\n",
    "- **Percentile (Phân vị):** Giá trị tại một vị trí phần trăm nhất định (ví dụ: 60th percentile là giá trị mà 60% dữ liệu nhỏ hơn nó).\n",
    "- **Quartile (Tứ phân vị):** Chia dữ liệu thành 4 phần bằng nhau, Q3 là giá trị tại 75%.\n",
    "- **IQR (Khoảng tứ phân vị):** Hiệu số giữa Q3 và Q1, đo độ phân tán của dữ liệu ở giữa."
   ]
  },
  {
   "cell_type": "markdown",
   "id": "eaac6c9c",
   "metadata": {},
   "source": [
    "# Nhiệm Vụ 2: Khám Phá Và Xử Lý Dữ Liệu Marketing Campaign"
   ]
  },
  {
   "cell_type": "code",
   "execution_count": 1,
   "id": "8f334fb1",
   "metadata": {},
   "outputs": [],
   "source": [
    "import pandas as pd\n",
    "\n",
    "# Tải data (lưu ý sep='\\t' vì file dùng tab)\n",
    "marketing_data = pd.read_csv(\"../data/marketing_campaign.csv\", sep='\\t')\n",
    "marketing_data = marketing_data[['ID', 'Year_Birth', 'Education', 'Marital_Status', 'Income', 'Kidhome', 'Teenhome', 'Dt_Customer', 'Recency', 'NumStorePurchases', 'NumWebVisitsMonth']]"
   ]
  },
  {
   "cell_type": "code",
   "execution_count": 2,
   "id": "b28dc7ad",
   "metadata": {},
   "outputs": [
    {
     "name": "stdout",
     "output_type": "stream",
     "text": [
      "     ID  Year_Birth   Education Marital_Status   Income  Kidhome  Teenhome  \\\n",
      "0  5524        1957  Graduation         Single  58138.0        0         0   \n",
      "1  2174        1954  Graduation         Single  46344.0        1         1   \n",
      "2  4141        1965  Graduation       Together  71613.0        0         0   \n",
      "3  6182        1984  Graduation       Together  26646.0        1         0   \n",
      "4  5324        1981         PhD        Married  58293.0        1         0   \n",
      "\n",
      "  Dt_Customer  Recency  NumStorePurchases  NumWebVisitsMonth  \n",
      "0  04-09-2012       58                  4                  7  \n",
      "1  08-03-2014       38                  2                  5  \n",
      "2  21-08-2013       26                 10                  4  \n",
      "3  10-02-2014       26                  4                  6  \n",
      "4  19-01-2014       94                  6                  5  \n",
      "Shape sau drop duplicates: (2240, 11)\n"
     ]
    }
   ],
   "source": [
    "print(marketing_data.head())  # Xem data\n",
    "\n",
    "# Loại duplicates toàn bộ\n",
    "marketing_data_duplicate = marketing_data.drop_duplicates()\n",
    "print(\"Shape sau drop duplicates:\", marketing_data_duplicate.shape)\n",
    "\n",
    "# Xóa row cụ thể (index 1)\n",
    "marketing_data = marketing_data.drop(labels=[1], axis=0)\n",
    "\n",
    "# Xóa cột cụ thể\n",
    "marketing_data = marketing_data.drop(labels=['Year_Birth'], axis=1)"
   ]
  },
  {
   "cell_type": "code",
   "execution_count": 3,
   "id": "a9516ee0",
   "metadata": {},
   "outputs": [
    {
     "name": "stdout",
     "output_type": "stream",
     "text": [
      "     ID   Education Marital_Status   Income  Kidhome  Teenhome Dt_Customer  \\\n",
      "0  5524  Graduation         Single  58138.0        0         0  04-09-2012   \n",
      "2  4141  Graduation       Together  71613.0        0         0  21-08-2013   \n",
      "3  6182  Graduation       Together  26646.0        1         0  10-02-2014   \n",
      "4  5324         PhD        Married  58293.0        1         0  19-01-2014   \n",
      "5  7446      Master       Together  62513.0        0         1  09-09-2013   \n",
      "\n",
      "   Recency  NumStorePurchases  NumWebVisitsMonth Teenhome_replaced  \\\n",
      "0       58                  4                  7       has no teen   \n",
      "2       26                 10                  4       has no teen   \n",
      "3       26                  4                  6       has no teen   \n",
      "4       94                  6                  5       has no teen   \n",
      "5       16                 10                  6          has teen   \n",
      "\n",
      "   Income_changed  \n",
      "0           58138  \n",
      "2           71613  \n",
      "3           26646  \n",
      "4           58293  \n",
      "5           62513  \n"
     ]
    }
   ],
   "source": [
    "# Thay thế Teenhome: 0 -> 'has no teen', 1/2 -> 'has teen'\n",
    "marketing_data['Teenhome_replaced'] = marketing_data['Teenhome'].replace([0, 1, 2], ['has no teen', 'has teen', 'has teen'])\n",
    "\n",
    "# Fill NaN ở Income bằng 0\n",
    "marketing_data['Income'] = marketing_data['Income'].fillna(0)\n",
    "\n",
    "# Đổi kiểu Income sang int\n",
    "marketing_data['Income_changed'] = marketing_data['Income'].astype(int)\n",
    "print(marketing_data.head())  # Kiểm tra"
   ]
  },
  {
   "cell_type": "code",
   "execution_count": 4,
   "id": "f8663a3e",
   "metadata": {},
   "outputs": [
    {
     "name": "stdout",
     "output_type": "stream",
     "text": [
      "ID                   0\n",
      "Education            0\n",
      "Marital_Status       0\n",
      "Income               0\n",
      "Kidhome              0\n",
      "Teenhome             0\n",
      "Dt_Customer          0\n",
      "Recency              0\n",
      "NumStorePurchases    0\n",
      "NumWebVisitsMonth    0\n",
      "Teenhome_replaced    0\n",
      "Income_changed       0\n",
      "dtype: int64\n",
      "Shape sau drop NaN: (2239, 12)\n"
     ]
    }
   ],
   "source": [
    "# Kiểm tra missing\n",
    "print(marketing_data.isnull().sum())\n",
    "\n",
    "# Drop rows có missing\n",
    "marketing_data_withoutna = marketing_data.dropna(how='any')\n",
    "print(\"Shape sau drop NaN:\", marketing_data_withoutna.shape)"
   ]
  },
  {
   "cell_type": "markdown",
   "id": "fd82b5c2",
   "metadata": {},
   "source": [
    "# "
   ]
  }
 ],
 "metadata": {
  "kernelspec": {
   "display_name": "base",
   "language": "python",
   "name": "python3"
  },
  "language_info": {
   "codemirror_mode": {
    "name": "ipython",
    "version": 3
   },
   "file_extension": ".py",
   "mimetype": "text/x-python",
   "name": "python",
   "nbconvert_exporter": "python",
   "pygments_lexer": "ipython3",
   "version": "3.13.5"
  }
 },
 "nbformat": 4,
 "nbformat_minor": 5
}
