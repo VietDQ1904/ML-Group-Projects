{
 "cells": [
  {
   "cell_type": "markdown",
   "id": "e28b358a",
   "metadata": {},
   "source": [
    "# Nhiệm Vụ 1: Khám Phá Dữ Liệu COVID-19"
   ]
  },
  {
   "cell_type": "markdown",
   "id": "76f034a2",
   "metadata": {},
   "source": [
    "# Phân tích dữ liệu số ca nhiễm COVID-19 mới\n",
    "Trong notebook này, chúng ta sẽ thực hiện các bước EDA cơ bản trên cột `new_cases` của bộ dữ liệu COVID-19."
   ]
  },
  {
   "cell_type": "markdown",
   "id": "6004773e",
   "metadata": {},
   "source": [
    "## 1. Import thư viện cần thiết\n",
    "Chúng ta sử dụng numpy, pandas và scipy để xử lý và phân tích dữ liệu."
   ]
  },
  {
   "cell_type": "code",
   "execution_count": 1,
   "id": "0c1debec",
   "metadata": {},
   "outputs": [],
   "source": [
    "import numpy as np\n",
    "import pandas as pd\n",
    "from scipy import stats"
   ]
  },
  {
   "cell_type": "markdown",
   "id": "e8ea9bb0",
   "metadata": {},
   "source": [
    "## 2. Đọc dữ liệu từ file CSV\n",
    "Chỉ lấy các cột liên quan: mã quốc gia, châu lục, tên quốc gia, ngày, tổng số ca, số ca mới."
   ]
  },
  {
   "cell_type": "code",
   "execution_count": 2,
   "id": "d370d3be",
   "metadata": {},
   "outputs": [],
   "source": [
    "covid_data = pd.read_csv(\"../data/owid-covid-data.csv\")\n",
    "covid_data = covid_data[['iso_code', 'continent', 'location', 'date', 'total_cases', 'new_cases']]"
   ]
  },
  {
   "cell_type": "markdown",
   "id": "c08f0590",
   "metadata": {},
   "source": [
    "## 3. Khám phá dữ liệu ban đầu\n",
    "Xem 5 dòng đầu, kiểu dữ liệu và kích thước bảng."
   ]
  },
  {
   "cell_type": "code",
   "execution_count": 3,
   "id": "bcabfe6f",
   "metadata": {},
   "outputs": [
    {
     "name": "stdout",
     "output_type": "stream",
     "text": [
      "  iso_code continent     location        date  total_cases  new_cases\n",
      "0      AFG      Asia  Afghanistan  2020-01-05          0.0        0.0\n",
      "1      AFG      Asia  Afghanistan  2020-01-06          0.0        0.0\n",
      "2      AFG      Asia  Afghanistan  2020-01-07          0.0        0.0\n",
      "3      AFG      Asia  Afghanistan  2020-01-08          0.0        0.0\n",
      "4      AFG      Asia  Afghanistan  2020-01-09          0.0        0.0\n",
      "iso_code        object\n",
      "continent       object\n",
      "location        object\n",
      "date            object\n",
      "total_cases    float64\n",
      "new_cases      float64\n",
      "dtype: object\n",
      "(429435, 6)\n"
     ]
    }
   ],
   "source": [
    "print(covid_data.head(5))\n",
    "print(covid_data.dtypes)\n",
    "print(covid_data.shape)"
   ]
  },
  {
   "cell_type": "markdown",
   "id": "faecd063",
   "metadata": {},
   "source": [
    "## 4. Kiểm tra và xử lý giá trị thiếu (NaN) ở cột `new_cases`\n",
    "Đếm số lượng giá trị thiếu và thay thế bằng 0."
   ]
  },
  {
   "cell_type": "code",
   "execution_count": 4,
   "id": "c71dc71d",
   "metadata": {},
   "outputs": [
    {
     "name": "stdout",
     "output_type": "stream",
     "text": [
      "19276\n"
     ]
    }
   ],
   "source": [
    "print(covid_data['new_cases'].isnull().sum())\n",
    "covid_data['new_cases'] = covid_data['new_cases'].fillna(0)"
   ]
  },
  {
   "cell_type": "markdown",
   "id": "bdc99697",
   "metadata": {},
   "source": [
    "## 5. Tính các thống kê mô tả cơ bản cho cột `new_cases`\n",
    "Bao gồm: Mean, Median, Mode, Variance, Standard Deviation, Range, Percentile, Quartile, IQR."
   ]
  },
  {
   "cell_type": "code",
   "execution_count": 5,
   "id": "7be90c8c",
   "metadata": {},
   "outputs": [
    {
     "name": "stdout",
     "output_type": "stream",
     "text": [
      "Mean: 7657.48561016219\n",
      "Median: 0.0\n",
      "Mode: 0.0\n",
      "Variance: 50380982412.98099\n",
      "Standard Deviation: 224457.0836774393\n",
      "Range: 44236227.0\n",
      "60th Percentile: 0.0\n",
      "75th Quartile: 0.0\n",
      "IQR: 0.0\n"
     ]
    }
   ],
   "source": [
    "# Mean\n",
    "data_mean = np.mean(covid_data[\"new_cases\"])\n",
    "print(\"Mean:\", data_mean)\n",
    "\n",
    "# Median\n",
    "data_median = np.median(covid_data[\"new_cases\"])\n",
    "print(\"Median:\", data_median)\n",
    "\n",
    "# Mode\n",
    "data_mode = stats.mode(covid_data[\"new_cases\"], nan_policy='omit', keepdims=True)\n",
    "print(\"Mode:\", data_mode.mode[0])\n",
    "\n",
    "# Variance\n",
    "data_variance = np.var(covid_data[\"new_cases\"])\n",
    "print(\"Variance:\", data_variance)\n",
    "\n",
    "# Standard Deviation\n",
    "data_sd = np.std(covid_data[\"new_cases\"])\n",
    "print(\"Standard Deviation:\", data_sd)\n",
    "\n",
    "# Range\n",
    "data_max = np.max(covid_data[\"new_cases\"])\n",
    "data_min = np.min(covid_data[\"new_cases\"])\n",
    "data_range = data_max - data_min\n",
    "print(\"Range:\", data_range)\n",
    "\n",
    "# 60th Percentile\n",
    "data_percentile = np.percentile(covid_data[\"new_cases\"], 60)\n",
    "print(\"60th Percentile:\", data_percentile)\n",
    "\n",
    "# 75th Quartile (Q3)\n",
    "data_quartile = np.quantile(covid_data[\"new_cases\"], 0.75)\n",
    "print(\"75th Quartile:\", data_quartile)\n",
    "\n",
    "# IQR\n",
    "data_IQR = stats.iqr(covid_data[\"new_cases\"])\n",
    "print(\"IQR:\", data_IQR)"
   ]
  },
  {
   "cell_type": "markdown",
   "id": "c4119408",
   "metadata": {},
   "source": [
    "### Ý nghĩa các thống kê mô tả cơ bản cho cột `new_cases`\n",
    "- **Mean (Trung bình):** Giá trị trung bình số ca nhiễm mới mỗi ngày, phản ánh xu hướng tổng thể của dữ liệu.\n",
    "- **Median (Trung vị):** Giá trị nằm giữa khi sắp xếp tất cả số ca nhiễm mới, giúp giảm ảnh hưởng của các giá trị ngoại lai.\n",
    "- **Mode (Giá trị xuất hiện nhiều nhất):** Số ca nhiễm mới phổ biến nhất trong dữ liệu.\n",
    "- **Variance (Phương sai):** Đo độ phân tán của số ca nhiễm mới quanh giá trị trung bình.\n",
    "- **Standard Deviation (Độ lệch chuẩn):** Đo mức độ biến động của số ca nhiễm mới so với trung bình.\n",
    "- **Range (Khoảng biến thiên):** Hiệu số giữa giá trị lớn nhất và nhỏ nhất, cho biết độ rộng của dữ liệu.\n",
    "- **Percentile (Phân vị):** Giá trị tại một vị trí phần trăm nhất định (ví dụ: 60th percentile là giá trị mà 60% dữ liệu nhỏ hơn nó).\n",
    "- **Quartile (Tứ phân vị):** Chia dữ liệu thành 4 phần bằng nhau, Q3 là giá trị tại 75%.\n",
    "- **IQR (Khoảng tứ phân vị):** Hiệu số giữa Q3 và Q1, đo độ phân tán của dữ liệu ở giữa."
   ]
  },
  {
   "cell_type": "markdown",
   "id": "eaac6c9c",
   "metadata": {},
   "source": [
    "# Nhiệm Vụ 2: Khám Phá Và Xử Lý Dữ Liệu Marketing Campaign"
   ]
  },
  {
   "cell_type": "code",
   "execution_count": null,
   "id": "8f334fb1",
   "metadata": {},
   "outputs": [
    {
     "ename": "FileNotFoundError",
     "evalue": "[Errno 2] No such file or directory: '..data/marketing_campaign.csv'",
     "output_type": "error",
     "traceback": [
      "\u001b[1;31m---------------------------------------------------------------------------\u001b[0m",
      "\u001b[1;31mFileNotFoundError\u001b[0m                         Traceback (most recent call last)",
      "Cell \u001b[1;32mIn[16], line 4\u001b[0m\n\u001b[0;32m      1\u001b[0m \u001b[38;5;28;01mimport\u001b[39;00m\u001b[38;5;250m \u001b[39m\u001b[38;5;21;01mpandas\u001b[39;00m\u001b[38;5;250m \u001b[39m\u001b[38;5;28;01mas\u001b[39;00m\u001b[38;5;250m \u001b[39m\u001b[38;5;21;01mpd\u001b[39;00m\n\u001b[0;32m      3\u001b[0m \u001b[38;5;66;03m# Tải data (lưu ý sep='\\t' vì file dùng tab)\u001b[39;00m\n\u001b[1;32m----> 4\u001b[0m marketing_data \u001b[38;5;241m=\u001b[39m pd\u001b[38;5;241m.\u001b[39mread_csv(\u001b[38;5;124m\"\u001b[39m\u001b[38;5;124m..data/marketing_campaign.csv\u001b[39m\u001b[38;5;124m\"\u001b[39m, sep\u001b[38;5;241m=\u001b[39m\u001b[38;5;124m'\u001b[39m\u001b[38;5;130;01m\\t\u001b[39;00m\u001b[38;5;124m'\u001b[39m)\n\u001b[0;32m      5\u001b[0m marketing_data \u001b[38;5;241m=\u001b[39m marketing_data[[\u001b[38;5;124m'\u001b[39m\u001b[38;5;124mID\u001b[39m\u001b[38;5;124m'\u001b[39m, \u001b[38;5;124m'\u001b[39m\u001b[38;5;124mYear_Birth\u001b[39m\u001b[38;5;124m'\u001b[39m, \u001b[38;5;124m'\u001b[39m\u001b[38;5;124mEducation\u001b[39m\u001b[38;5;124m'\u001b[39m, \u001b[38;5;124m'\u001b[39m\u001b[38;5;124mMarital_Status\u001b[39m\u001b[38;5;124m'\u001b[39m, \u001b[38;5;124m'\u001b[39m\u001b[38;5;124mIncome\u001b[39m\u001b[38;5;124m'\u001b[39m, \u001b[38;5;124m'\u001b[39m\u001b[38;5;124mKidhome\u001b[39m\u001b[38;5;124m'\u001b[39m, \u001b[38;5;124m'\u001b[39m\u001b[38;5;124mTeenhome\u001b[39m\u001b[38;5;124m'\u001b[39m, \u001b[38;5;124m'\u001b[39m\u001b[38;5;124mDt_Customer\u001b[39m\u001b[38;5;124m'\u001b[39m, \u001b[38;5;124m'\u001b[39m\u001b[38;5;124mRecency\u001b[39m\u001b[38;5;124m'\u001b[39m, \u001b[38;5;124m'\u001b[39m\u001b[38;5;124mNumStorePurchases\u001b[39m\u001b[38;5;124m'\u001b[39m, \u001b[38;5;124m'\u001b[39m\u001b[38;5;124mNumWebVisitsMonth\u001b[39m\u001b[38;5;124m'\u001b[39m]]\n",
      "File \u001b[1;32mc:\\ProgramData\\anaconda3\\Lib\\site-packages\\pandas\\io\\parsers\\readers.py:1026\u001b[0m, in \u001b[0;36mread_csv\u001b[1;34m(filepath_or_buffer, sep, delimiter, header, names, index_col, usecols, dtype, engine, converters, true_values, false_values, skipinitialspace, skiprows, skipfooter, nrows, na_values, keep_default_na, na_filter, verbose, skip_blank_lines, parse_dates, infer_datetime_format, keep_date_col, date_parser, date_format, dayfirst, cache_dates, iterator, chunksize, compression, thousands, decimal, lineterminator, quotechar, quoting, doublequote, escapechar, comment, encoding, encoding_errors, dialect, on_bad_lines, delim_whitespace, low_memory, memory_map, float_precision, storage_options, dtype_backend)\u001b[0m\n\u001b[0;32m   1013\u001b[0m kwds_defaults \u001b[38;5;241m=\u001b[39m _refine_defaults_read(\n\u001b[0;32m   1014\u001b[0m     dialect,\n\u001b[0;32m   1015\u001b[0m     delimiter,\n\u001b[1;32m   (...)\u001b[0m\n\u001b[0;32m   1022\u001b[0m     dtype_backend\u001b[38;5;241m=\u001b[39mdtype_backend,\n\u001b[0;32m   1023\u001b[0m )\n\u001b[0;32m   1024\u001b[0m kwds\u001b[38;5;241m.\u001b[39mupdate(kwds_defaults)\n\u001b[1;32m-> 1026\u001b[0m \u001b[38;5;28;01mreturn\u001b[39;00m _read(filepath_or_buffer, kwds)\n",
      "File \u001b[1;32mc:\\ProgramData\\anaconda3\\Lib\\site-packages\\pandas\\io\\parsers\\readers.py:620\u001b[0m, in \u001b[0;36m_read\u001b[1;34m(filepath_or_buffer, kwds)\u001b[0m\n\u001b[0;32m    617\u001b[0m _validate_names(kwds\u001b[38;5;241m.\u001b[39mget(\u001b[38;5;124m\"\u001b[39m\u001b[38;5;124mnames\u001b[39m\u001b[38;5;124m\"\u001b[39m, \u001b[38;5;28;01mNone\u001b[39;00m))\n\u001b[0;32m    619\u001b[0m \u001b[38;5;66;03m# Create the parser.\u001b[39;00m\n\u001b[1;32m--> 620\u001b[0m parser \u001b[38;5;241m=\u001b[39m TextFileReader(filepath_or_buffer, \u001b[38;5;241m*\u001b[39m\u001b[38;5;241m*\u001b[39mkwds)\n\u001b[0;32m    622\u001b[0m \u001b[38;5;28;01mif\u001b[39;00m chunksize \u001b[38;5;129;01mor\u001b[39;00m iterator:\n\u001b[0;32m    623\u001b[0m     \u001b[38;5;28;01mreturn\u001b[39;00m parser\n",
      "File \u001b[1;32mc:\\ProgramData\\anaconda3\\Lib\\site-packages\\pandas\\io\\parsers\\readers.py:1620\u001b[0m, in \u001b[0;36mTextFileReader.__init__\u001b[1;34m(self, f, engine, **kwds)\u001b[0m\n\u001b[0;32m   1617\u001b[0m     \u001b[38;5;28mself\u001b[39m\u001b[38;5;241m.\u001b[39moptions[\u001b[38;5;124m\"\u001b[39m\u001b[38;5;124mhas_index_names\u001b[39m\u001b[38;5;124m\"\u001b[39m] \u001b[38;5;241m=\u001b[39m kwds[\u001b[38;5;124m\"\u001b[39m\u001b[38;5;124mhas_index_names\u001b[39m\u001b[38;5;124m\"\u001b[39m]\n\u001b[0;32m   1619\u001b[0m \u001b[38;5;28mself\u001b[39m\u001b[38;5;241m.\u001b[39mhandles: IOHandles \u001b[38;5;241m|\u001b[39m \u001b[38;5;28;01mNone\u001b[39;00m \u001b[38;5;241m=\u001b[39m \u001b[38;5;28;01mNone\u001b[39;00m\n\u001b[1;32m-> 1620\u001b[0m \u001b[38;5;28mself\u001b[39m\u001b[38;5;241m.\u001b[39m_engine \u001b[38;5;241m=\u001b[39m \u001b[38;5;28mself\u001b[39m\u001b[38;5;241m.\u001b[39m_make_engine(f, \u001b[38;5;28mself\u001b[39m\u001b[38;5;241m.\u001b[39mengine)\n",
      "File \u001b[1;32mc:\\ProgramData\\anaconda3\\Lib\\site-packages\\pandas\\io\\parsers\\readers.py:1880\u001b[0m, in \u001b[0;36mTextFileReader._make_engine\u001b[1;34m(self, f, engine)\u001b[0m\n\u001b[0;32m   1878\u001b[0m     \u001b[38;5;28;01mif\u001b[39;00m \u001b[38;5;124m\"\u001b[39m\u001b[38;5;124mb\u001b[39m\u001b[38;5;124m\"\u001b[39m \u001b[38;5;129;01mnot\u001b[39;00m \u001b[38;5;129;01min\u001b[39;00m mode:\n\u001b[0;32m   1879\u001b[0m         mode \u001b[38;5;241m+\u001b[39m\u001b[38;5;241m=\u001b[39m \u001b[38;5;124m\"\u001b[39m\u001b[38;5;124mb\u001b[39m\u001b[38;5;124m\"\u001b[39m\n\u001b[1;32m-> 1880\u001b[0m \u001b[38;5;28mself\u001b[39m\u001b[38;5;241m.\u001b[39mhandles \u001b[38;5;241m=\u001b[39m get_handle(\n\u001b[0;32m   1881\u001b[0m     f,\n\u001b[0;32m   1882\u001b[0m     mode,\n\u001b[0;32m   1883\u001b[0m     encoding\u001b[38;5;241m=\u001b[39m\u001b[38;5;28mself\u001b[39m\u001b[38;5;241m.\u001b[39moptions\u001b[38;5;241m.\u001b[39mget(\u001b[38;5;124m\"\u001b[39m\u001b[38;5;124mencoding\u001b[39m\u001b[38;5;124m\"\u001b[39m, \u001b[38;5;28;01mNone\u001b[39;00m),\n\u001b[0;32m   1884\u001b[0m     compression\u001b[38;5;241m=\u001b[39m\u001b[38;5;28mself\u001b[39m\u001b[38;5;241m.\u001b[39moptions\u001b[38;5;241m.\u001b[39mget(\u001b[38;5;124m\"\u001b[39m\u001b[38;5;124mcompression\u001b[39m\u001b[38;5;124m\"\u001b[39m, \u001b[38;5;28;01mNone\u001b[39;00m),\n\u001b[0;32m   1885\u001b[0m     memory_map\u001b[38;5;241m=\u001b[39m\u001b[38;5;28mself\u001b[39m\u001b[38;5;241m.\u001b[39moptions\u001b[38;5;241m.\u001b[39mget(\u001b[38;5;124m\"\u001b[39m\u001b[38;5;124mmemory_map\u001b[39m\u001b[38;5;124m\"\u001b[39m, \u001b[38;5;28;01mFalse\u001b[39;00m),\n\u001b[0;32m   1886\u001b[0m     is_text\u001b[38;5;241m=\u001b[39mis_text,\n\u001b[0;32m   1887\u001b[0m     errors\u001b[38;5;241m=\u001b[39m\u001b[38;5;28mself\u001b[39m\u001b[38;5;241m.\u001b[39moptions\u001b[38;5;241m.\u001b[39mget(\u001b[38;5;124m\"\u001b[39m\u001b[38;5;124mencoding_errors\u001b[39m\u001b[38;5;124m\"\u001b[39m, \u001b[38;5;124m\"\u001b[39m\u001b[38;5;124mstrict\u001b[39m\u001b[38;5;124m\"\u001b[39m),\n\u001b[0;32m   1888\u001b[0m     storage_options\u001b[38;5;241m=\u001b[39m\u001b[38;5;28mself\u001b[39m\u001b[38;5;241m.\u001b[39moptions\u001b[38;5;241m.\u001b[39mget(\u001b[38;5;124m\"\u001b[39m\u001b[38;5;124mstorage_options\u001b[39m\u001b[38;5;124m\"\u001b[39m, \u001b[38;5;28;01mNone\u001b[39;00m),\n\u001b[0;32m   1889\u001b[0m )\n\u001b[0;32m   1890\u001b[0m \u001b[38;5;28;01massert\u001b[39;00m \u001b[38;5;28mself\u001b[39m\u001b[38;5;241m.\u001b[39mhandles \u001b[38;5;129;01mis\u001b[39;00m \u001b[38;5;129;01mnot\u001b[39;00m \u001b[38;5;28;01mNone\u001b[39;00m\n\u001b[0;32m   1891\u001b[0m f \u001b[38;5;241m=\u001b[39m \u001b[38;5;28mself\u001b[39m\u001b[38;5;241m.\u001b[39mhandles\u001b[38;5;241m.\u001b[39mhandle\n",
      "File \u001b[1;32mc:\\ProgramData\\anaconda3\\Lib\\site-packages\\pandas\\io\\common.py:873\u001b[0m, in \u001b[0;36mget_handle\u001b[1;34m(path_or_buf, mode, encoding, compression, memory_map, is_text, errors, storage_options)\u001b[0m\n\u001b[0;32m    868\u001b[0m \u001b[38;5;28;01melif\u001b[39;00m \u001b[38;5;28misinstance\u001b[39m(handle, \u001b[38;5;28mstr\u001b[39m):\n\u001b[0;32m    869\u001b[0m     \u001b[38;5;66;03m# Check whether the filename is to be opened in binary mode.\u001b[39;00m\n\u001b[0;32m    870\u001b[0m     \u001b[38;5;66;03m# Binary mode does not support 'encoding' and 'newline'.\u001b[39;00m\n\u001b[0;32m    871\u001b[0m     \u001b[38;5;28;01mif\u001b[39;00m ioargs\u001b[38;5;241m.\u001b[39mencoding \u001b[38;5;129;01mand\u001b[39;00m \u001b[38;5;124m\"\u001b[39m\u001b[38;5;124mb\u001b[39m\u001b[38;5;124m\"\u001b[39m \u001b[38;5;129;01mnot\u001b[39;00m \u001b[38;5;129;01min\u001b[39;00m ioargs\u001b[38;5;241m.\u001b[39mmode:\n\u001b[0;32m    872\u001b[0m         \u001b[38;5;66;03m# Encoding\u001b[39;00m\n\u001b[1;32m--> 873\u001b[0m         handle \u001b[38;5;241m=\u001b[39m \u001b[38;5;28mopen\u001b[39m(\n\u001b[0;32m    874\u001b[0m             handle,\n\u001b[0;32m    875\u001b[0m             ioargs\u001b[38;5;241m.\u001b[39mmode,\n\u001b[0;32m    876\u001b[0m             encoding\u001b[38;5;241m=\u001b[39mioargs\u001b[38;5;241m.\u001b[39mencoding,\n\u001b[0;32m    877\u001b[0m             errors\u001b[38;5;241m=\u001b[39merrors,\n\u001b[0;32m    878\u001b[0m             newline\u001b[38;5;241m=\u001b[39m\u001b[38;5;124m\"\u001b[39m\u001b[38;5;124m\"\u001b[39m,\n\u001b[0;32m    879\u001b[0m         )\n\u001b[0;32m    880\u001b[0m     \u001b[38;5;28;01melse\u001b[39;00m:\n\u001b[0;32m    881\u001b[0m         \u001b[38;5;66;03m# Binary mode\u001b[39;00m\n\u001b[0;32m    882\u001b[0m         handle \u001b[38;5;241m=\u001b[39m \u001b[38;5;28mopen\u001b[39m(handle, ioargs\u001b[38;5;241m.\u001b[39mmode)\n",
      "\u001b[1;31mFileNotFoundError\u001b[0m: [Errno 2] No such file or directory: '..data/marketing_campaign.csv'"
     ]
    }
   ],
   "source": [
    "import pandas as pd\n",
    "\n",
    "# Tải data (lưu ý sep='\\t' vì file dùng tab)\n",
    "marketing_data = pd.read_csv(\".data/marketing_campaign.csv\", sep='\\t')\n",
    "marketing_data = marketing_data[['ID', 'Year_Birth', 'Education', 'Marital_Status', 'Income', 'Kidhome', 'Teenhome', 'Dt_Customer', 'Recency', 'NumStorePurchases', 'NumWebVisitsMonth']]"
   ]
  },
  {
   "cell_type": "code",
   "execution_count": null,
   "id": "b28dc7ad",
   "metadata": {},
   "outputs": [],
   "source": [
    "print(marketing_data.head())  # Xem data\n",
    "\n",
    "# Loại duplicates toàn bộ\n",
    "marketing_data_duplicate = marketing_data.drop_duplicates()\n",
    "print(\"Shape sau drop duplicates:\", marketing_data_duplicate.shape)\n",
    "\n",
    "# Xóa row cụ thể (index 1)\n",
    "marketing_data = marketing_data.drop(labels=[1], axis=0)\n",
    "\n",
    "# Xóa cột cụ thể\n",
    "marketing_data = marketing_data.drop(labels=['Year_Birth'], axis=1)"
   ]
  },
  {
   "cell_type": "code",
   "execution_count": null,
   "id": "a9516ee0",
   "metadata": {},
   "outputs": [],
   "source": [
    "# Thay thế Teenhome: 0 -> 'has no teen', 1/2 -> 'has teen'\n",
    "marketing_data['Teenhome_replaced'] = marketing_data['Teenhome'].replace([0, 1, 2], ['has no teen', 'has teen', 'has teen'])\n",
    "\n",
    "# Fill NaN ở Income bằng 0\n",
    "marketing_data['Income'] = marketing_data['Income'].fillna(0)\n",
    "\n",
    "# Đổi kiểu Income sang int\n",
    "marketing_data['Income_changed'] = marketing_data['Income'].astype(int)\n",
    "print(marketing_data.head())  # Kiểm tra"
   ]
  },
  {
   "cell_type": "code",
   "execution_count": null,
   "id": "f8663a3e",
   "metadata": {},
   "outputs": [],
   "source": [
    "# Kiểm tra missing\n",
    "print(marketing_data.isnull().sum())\n",
    "\n",
    "# Drop rows có missing\n",
    "marketing_data_withoutna = marketing_data.dropna(how='any')\n",
    "print(\"Shape sau drop NaN:\", marketing_data_withoutna.shape)"
   ]
  },
  {
   "cell_type": "markdown",
   "id": "fd82b5c2",
   "metadata": {},
   "source": [
    "# "
   ]
  }
 ],
 "metadata": {
  "kernelspec": {
   "display_name": "base",
   "language": "python",
   "name": "python3"
  },
  "language_info": {
   "codemirror_mode": {
    "name": "ipython",
    "version": 3
   },
   "file_extension": ".py",
   "mimetype": "text/x-python",
   "name": "python",
   "nbconvert_exporter": "python",
   "pygments_lexer": "ipython3",
   "version": "3.13.5"
  }
 },
 "nbformat": 4,
 "nbformat_minor": 5
}
